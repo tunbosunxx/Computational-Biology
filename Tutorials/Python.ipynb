{
 "cells": [
  {
   "cell_type": "markdown",
   "id": "98b3ace1",
   "metadata": {},
   "source": [
    "# This is Python Tutorial"
   ]
  },
  {
   "cell_type": "markdown",
   "id": "1fbba65c",
   "metadata": {},
   "source": [
    "This is a simple Python script that prints \"Hello, World!\" to the console.\n",
    "\n",
    "```python"
   ]
  },
  {
   "cell_type": "code",
   "execution_count": 2,
   "id": "fda34c61",
   "metadata": {},
   "outputs": [
    {
     "name": "stdout",
     "output_type": "stream",
     "text": [
      "Hello World\n"
     ]
    }
   ],
   "source": [
    "print (\"Hello World\")\n"
   ]
  },
  {
   "cell_type": "code",
   "execution_count": 3,
   "id": "27e073bf",
   "metadata": {},
   "outputs": [
    {
     "data": {
      "text/plain": [
       "5"
      ]
     },
     "execution_count": 3,
     "metadata": {},
     "output_type": "execute_result"
    }
   ],
   "source": [
    "2 + 3"
   ]
  },
  {
   "cell_type": "code",
   "execution_count": 5,
   "id": "80f96e06",
   "metadata": {},
   "outputs": [
    {
     "name": "stdout",
     "output_type": "stream",
     "text": [
      "36\n",
      "21\n",
      "57\n",
      "756\n",
      "1.7142857142857142\n",
      "15\n",
      "1\n",
      "114\n"
     ]
    }
   ],
   "source": [
    "a = 45 - 9\n",
    "b = 3 * 7\n",
    "c = a + b\n",
    "print (a)\n",
    "print (b)\n",
    "print (c)\n",
    "print (a * b)\n",
    "print (a / b)\n",
    "print (a - b)\n",
    "print (a // b)\n",
    "print (a + b + c)"
   ]
  },
  {
   "cell_type": "code",
   "execution_count": null,
   "id": "da34f12c",
   "metadata": {},
   "outputs": [
    {
     "name": "stdout",
     "output_type": "stream",
     "text": [
      "<class 'int'>\n",
      "<class 'float'>\n",
      "<class 'str'>\n",
      "<class 'bool'>\n",
      "<class 'NoneType'>\n",
      "<class 'complex'>\n",
      "<class 'int'>\n",
      "<class 'int'>\n",
      "<class 'int'>\n",
      "<class 'int'>\n",
      "10 31400000000.0 Hello True None (57+2j) 10 10 5 6\n",
      "Variable   Type        Data/Info\n",
      "--------------------------------\n",
      "a          int         5\n",
      "b          int         6\n",
      "c          int         57\n",
      "g          int         10\n",
      "p          int         10\n",
      "q          bool        True\n",
      "u          complex     (57+2j)\n",
      "w          NoneType    None\n",
      "x          int         10\n",
      "y          float       31400000000.0\n",
      "z          str         Hello\n"
     ]
    }
   ],
   "source": [
    "#variables put the class type\n",
    "x = 10 # int\n",
    "y = 3.14 # float\n",
    "z = \"Hello\" # str\n",
    "q = True # bool\n",
    "w = None # NoneType\n",
    "y = 3.14e10 # float in scientific notation\n",
    "u = c + 2j # complex number\n",
    "p = 0b1010 # binary number\n",
    "g = 0o12 # octal number\n",
    "a,b = 5, 6 # multiple assignment\n",
    "print (type(x))\n",
    "print (type(y))\n",
    "print (type(z))\n",
    "print (type(q))\n",
    "print (type(w))\n",
    "print (type(u))\n",
    "print (type(p))\n",
    "print (type(g))\n",
    "print (type(a))\n",
    "print (type(b))\n",
    "print (x, y, z, q, w, u, p, g, a, b)\n",
    "%whos\n"
   ]
  },
  {
   "cell_type": "code",
   "execution_count": 14,
   "id": "263ba737",
   "metadata": {},
   "outputs": [
    {
     "name": "stdout",
     "output_type": "stream",
     "text": [
      "13\n",
      "7\n",
      "30\n",
      "3.3333333333333335\n",
      "3\n",
      "1\n",
      "1000\n",
      "False\n",
      "True\n",
      "True\n",
      "False\n",
      "True\n",
      "False\n",
      "Logical Operators\n",
      "True\n",
      "True\n",
      "False\n",
      "Bitwise Operators\n",
      "2\n",
      "11\n",
      "9\n",
      "20\n",
      "5\n",
      "Assignment Operators\n",
      "30 0.5\n",
      "Identity Operators\n",
      "True\n",
      "False\n",
      "True\n",
      "Membership Operators\n",
      "True\n",
      "True\n",
      "Conditional Statements\n",
      "x is greater than y\n",
      "Loops\n",
      "0\n",
      "1\n",
      "2\n",
      "3\n",
      "4\n",
      "10\n",
      "9\n",
      "8\n",
      "7\n",
      "6\n",
      "5\n",
      "4\n",
      "3\n",
      "2\n",
      "1\n",
      "Boolean Values\n",
      "True\n",
      "False\n",
      "False\n",
      "True\n",
      "False\n",
      "True\n",
      "Rounding Numbers\n",
      "3.14\n",
      "4\n",
      "3\n",
      "3\n",
      "Divmod\n",
      "(3, 1)\n"
     ]
    }
   ],
   "source": [
    "# operators \n",
    "x = 10\n",
    "y = 3\n",
    "print (x + y)  # addition\n",
    "print (x - y)  # subtraction\n",
    "print (x * y)  # multiplication\n",
    "print (x / y)  # division\n",
    "print (x // y) # floor division\n",
    "print (x % y)  # modulus\n",
    "print (x ** y) # exponentiation\n",
    "print (x == y)  # equality\n",
    "print (x != y)  # inequality\n",
    "print (x > y)   # greater than\n",
    "print (x < y)   # less than\n",
    "print (x >= y)  # greater than or equal to\n",
    "print (x <= y)  # less than or equal to\n",
    "# logical operators\n",
    "print (\"Logical Operators\")\n",
    "print (x > 5 and y < 5)  # logical AND\n",
    "print (x > 5 or y < 5)   # logical OR\n",
    "print (not (x > 5))       # logical NOT\n",
    "# bitwise operators\n",
    "print (\"Bitwise Operators\")\n",
    "print (x & y)  # bitwise AND\n",
    "print (x | y)  # bitwise OR\n",
    "print (x ^ y)  # bitwise XOR\n",
    "print (x << 1) # left shift\n",
    "print (x >> 1) # right shift\n",
    "# assignment operators\n",
    "print (\"Assignment Operators\")\n",
    "x += 5  # x = x + 5\n",
    "y -= 2  # y = y - 2\n",
    "x *= 2  # x = x * 2\n",
    "y /= 2  # y = y / 2\n",
    "print (x, y)  # print updated values of x and y\n",
    "# identity operators\n",
    "print (\"Identity Operators\")\n",
    "a = [1, 2, 3]\n",
    "b = a\n",
    "c = a[:]\n",
    "print (a is b)  # True, b is the same object as a\n",
    "print (a is c)  # False, c is a copy of a\n",
    "print (a == c)  # True, c has the same content as a\n",
    "# membership operators\n",
    "print (\"Membership Operators\")\n",
    "my_list = [1, 2, 3, 4, 5]\n",
    "print (3 in my_list)  # True, 3 is in the list\n",
    "print (6 not in my_list)  # True, 6 is not in the list\n",
    "# conditional statements\n",
    "print (\"Conditional Statements\")\n",
    "x = 10\n",
    "if x > y:\n",
    "    print(\"x is greater than y\")\n",
    "elif x < y:\n",
    "    print(\"x is less than y\")\n",
    "else:\n",
    "    print(\"x is equal to y\")\n",
    "# loops\n",
    "print (\"Loops\")\n",
    "for i in range(5):  # for loop\n",
    "    print(i)  # prints numbers from 0 to 4\n",
    "while x > 0:  # while loop\n",
    "    print(x)  # prints the value of x\n",
    "    x -= 1  # decrements x by 1\n",
    "# boolean values\n",
    "a= True\n",
    "b= False\n",
    "c= True\n",
    "print (\"Boolean Values\")\n",
    "print (True)  # prints True\n",
    "print (False)  # prints False\n",
    "print (a and b)  # prints False, because a is True and b is False\n",
    "print (a or b)  # prints True, because a is True\n",
    "print (not a)  # prints False, because a is True\n",
    "print (not b)  # prints True, because b is False\n",
    "\n",
    "# round up decimal numbers\n",
    "print (\"Rounding Numbers\")\n",
    "import math\n",
    "print (round(3.14159, 2))  # rounds to 2 decimal places\n",
    "print (math.ceil(3.14159))  # rounds up to the nearest integer\n",
    "print (math.floor(3.14159))  # rounds down to the nearest integer\n",
    "print (math.trunc(3.14159))  # truncates the decimal part\n",
    "\n",
    "#divmod tuple\n",
    "print (\"Divmod\")\n",
    "print(divmod(10, 3))  # returns (3, 1), which is (quotient, remainder)"
   ]
  },
  {
   "cell_type": "code",
   "execution_count": 18,
   "id": "7766d60f",
   "metadata": {},
   "outputs": [
    {
     "name": "stdout",
     "output_type": "stream",
     "text": [
      "isinstance\n",
      "True\n",
      "True\n",
      "True\n",
      "True\n",
      "True\n",
      "True\n",
      "True\n",
      "True\n",
      "True\n",
      "True\n"
     ]
    }
   ],
   "source": [
    "# isinstance\n",
    "print (\"isinstance\")\n",
    "print(isinstance(10, int))  # True, 10 is an instance of int\n",
    "print(isinstance(3.14, (float,int))) # True, 3.14 is an instance of float\n",
    "print(isinstance(3.14, float))  # True, 3.14 is an instance of float\n",
    "print(isinstance(\"Hello\", str))  # True, \"Hello\" is an instance of str\n",
    "print(isinstance([1, 2, 3], list))  # True, [1, 2, 3] is an instance of list\n",
    "print(isinstance((1, 2, 3), tuple))  # True, (1, 2, 3) is an instance of tuple\n",
    "print(isinstance({1, 2, 3}, set))  # True, {1, 2, 3} is an instance of set\n",
    "print(isinstance({\"key\": \"value\"}, dict))  # True, {\"key\": \"    value\"} is an instance of dict     \n",
    "print(isinstance(True, bool))  # True, True is an instance of bool  \n",
    "print(isinstance(None, type(None)))  # True, None is an instance of NoneType\n"
   ]
  },
  {
   "cell_type": "code",
   "execution_count": 19,
   "id": "7fcc193f",
   "metadata": {},
   "outputs": [
    {
     "name": "stdout",
     "output_type": "stream",
     "text": [
      "Power Function\n",
      "8\n",
      "3\n"
     ]
    }
   ],
   "source": [
    "# power function\n",
    "print (\"Power Function\")\n",
    "print(pow(2, 3))  # returns 8, which is 2 raised to the power of 3\n",
    "print(pow(2, 3, 5))  # returns 3, which is (2 raised to the power of 3) % 5 \n"
   ]
  },
  {
   "cell_type": "code",
   "execution_count": 21,
   "id": "cddefbcc",
   "metadata": {},
   "outputs": [
    {
     "name": "stdout",
     "output_type": "stream",
     "text": [
      "Input Function\n",
      "Hello, Olatunbosun!\n"
     ]
    }
   ],
   "source": [
    "# input function\n",
    "print (\"Input Function\")\n",
    "name = input(\"Enter your name: \")  # prompts the user to enter their name\n",
    "print(\"Hello, \" + name + \"!\")  # greets the user with their name"
   ]
  },
  {
   "cell_type": "code",
   "execution_count": 28,
   "id": "0ebae5bc",
   "metadata": {},
   "outputs": [
    {
     "name": "stdout",
     "output_type": "stream",
     "text": [
      "Control Flow\n",
      "x is greater than 5\n",
      "Control Flow with Input Function\n",
      "You are a minor.\n",
      "Control Flow with Two Variables\n",
      "x is less than y\n",
      "End of control flow with two variables\n"
     ]
    }
   ],
   "source": [
    "# control flow\n",
    "print (\"Control Flow\")\n",
    "x = 10\n",
    "if x > 5:\n",
    "    print(\"x is greater than 5\")\n",
    "elif x < 5:\n",
    "    print(\"x is less than 5\")       \n",
    "else:\n",
    "    print(\"x is equal to 5\")\n",
    "\n",
    "\n",
    "# control flow with input function\n",
    "print (\"Control Flow with Input Function\")\n",
    "age = int(input(\"Enter your age: \"))  # prompts the user to enter their age\n",
    "if age < 18:\n",
    "    print(\"You are a minor.\")  \n",
    "elif age < 65:\n",
    "    print(\"You are an adult.\")\n",
    "else:\n",
    "    print(\"You are a senior citizen.\")  \n",
    "\n",
    "# control flow with two variables\n",
    "print (\"Control Flow with Two Variables\")\n",
    "x = 10\n",
    "y = 20\n",
    "if x > y:\n",
    "    print(\"x is greater than y\")\n",
    "elif x < y:\n",
    "    print(\"x is less than y\")\n",
    "else:\n",
    "    print(\"x is equal to y\")\n",
    "print(\"End of control flow with two variables\")\n",
    "\n"
   ]
  },
  {
   "cell_type": "code",
   "execution_count": 30,
   "id": "3dbc4120",
   "metadata": {},
   "outputs": [
    {
     "name": "stdout",
     "output_type": "stream",
     "text": [
      "i: 0, j: 0\n",
      "i: 0, j: 1\n",
      "i: 1, j: 0\n",
      "i: 1, j: 1\n",
      "i: 2, j: 0\n",
      "i: 2, j: 1\n",
      "Control Flow with Indentation\n",
      "This is true\n",
      "This is false\n"
     ]
    }
   ],
   "source": [
    "\n",
    "# control flow with nested loopsprint (\"Control Flow with Nested Loops\")\n",
    "for i in range(3):  # outer loop\n",
    "    for j in range(2):  # inner loop\n",
    "        print(f\"i: {i}, j: {j}\")  # prints the values of i and j\n",
    "\n",
    "#control flow with indentation\n",
    "print (\"Control Flow with Indentation\")\n",
    "if True:\n",
    "    print(\"This is true\")\n",
    "    if False:\n",
    "        print(\"This will not be printed\")\n",
    "    else:\n",
    "        print(\"This is false\")\n",
    "        "
   ]
  },
  {
   "cell_type": "code",
   "execution_count": 31,
   "id": "3a448764",
   "metadata": {},
   "outputs": [
    {
     "name": "stdout",
     "output_type": "stream",
     "text": [
      "The integer portion 235 is odd.\n",
      "End of the script\n"
     ]
    }
   ],
   "source": [
    "\"\"\"\n",
    "user will enter  a floating point number lets say 238.915. Your task\n",
    "is to find out the integer portion before the decimal point \n",
    "and then check if that integer is even or odd.\n",
    "print (\"User Input for Even or Odd Check\")\n",
    "\"\"\"\n",
    "user_input = input(\"Enter a floating point number: \")  # prompts the user to enter a floating point number\n",
    "try:\n",
    "    float_number = float(user_input)  # converts the input to a float\n",
    "    integer_portion = int(float_number)  # gets the integer portion before the decimal point\n",
    "    if integer_portion % 2 == 0:  # checks if the integer portion is even\n",
    "        print(f\"The integer portion {integer_portion} is even.\")\n",
    "    else:  # if not even, it is odd\n",
    "        print(f\"The integer portion {integer_portion} is odd.\")\n",
    "except ValueError:\n",
    "    print(\"Invalid input. Please enter a valid floating point number.\")\n",
    "# end of the script\n",
    "print(\"End of the script\")"
   ]
  },
  {
   "cell_type": "code",
   "execution_count": 35,
   "id": "d716b5c7",
   "metadata": {},
   "outputs": [
    {
     "name": "stdout",
     "output_type": "stream",
     "text": [
      "1\n",
      "This is iteration number 1\n",
      "4\n",
      "This is iteration number 2\n",
      "9\n",
      "This is iteration number 3\n",
      "16\n",
      "This is iteration number 4\n",
      "Loop ended, final value of i: 5\n"
     ]
    }
   ],
   "source": [
    "# loop \n",
    "n = int(input())\n",
    "i = 1\n",
    "while i < n:\n",
    "    print(i**2)\n",
    "    print(\"This is iteration number\", i)\n",
    "    i += 1  # increment i by 1\n",
    "print (\"Loop ended, final value of i:\", i)"
   ]
  },
  {
   "cell_type": "code",
   "execution_count": null,
   "id": "be92717e",
   "metadata": {},
   "outputs": [
    {
     "name": "stdout",
     "output_type": "stream",
     "text": [
      "2\n",
      "4\n",
      "6\n",
      "While loop ended, final value of i: 7\n",
      "break\n",
      "Infinite loop ended, final value of i: 217\n"
     ]
    }
   ],
   "source": [
    "# while loops\n",
    "n = int(input('max number :'))\n",
    "i = 1\n",
    "while i < n:\n",
    "    if i % 2 == 0:\n",
    "        print(i)\n",
    "    else:\n",
    "        pass\n",
    "    i += 1  # increment i by 1\n",
    "print (\"While loop ended, final value of i:\", i)\n",
    "\n",
    "while True:\n",
    "    if i % 17 == 0:\n",
    "        print('break')\n",
    "        break\n",
    "    else:\n",
    "        i += 1  # increment i by 1\n",
    "        continue\n",
    "    print('continue')\n",
    "print(\"Infinite loop ended, final value of i:\", i)\n"
   ]
  },
  {
   "cell_type": "code",
   "execution_count": 44,
   "id": "e24cbadf",
   "metadata": {},
   "outputs": [
    {
     "name": "stdout",
     "output_type": "stream",
     "text": [
      "1\n",
      "3\n",
      "5\n",
      "7\n",
      "9\n",
      "11\n",
      "13\n",
      "15\n",
      "17\n",
      "19\n",
      "For loop ended, final list: [0, 0, 2, 4, 4, 16, 6, 36, 8, 64, 10, 100, 12, 144, 14, 196, 16, 256, 18, 324]\n"
     ]
    }
   ],
   "source": [
    "# for loop\n",
    "L = []\n",
    "for i in range(0,20,2):\n",
    "    if i % 2 == 0:\n",
    "        L.append(i)  # append even numbers to the list\n",
    "    else:\n",
    "        pass  # do nothing for odd numbers\n",
    "    print(i+1)\n",
    "    L.append(i**2)  # append i**2 to the list\n",
    "print(\"For loop ended, final list:\", L)\n"
   ]
  },
  {
   "cell_type": "code",
   "execution_count": 47,
   "id": "2d18dbe1",
   "metadata": {},
   "outputs": [
    {
     "name": "stdout",
     "output_type": "stream",
     "text": [
      "False\n",
      "True\n",
      "apple\n",
      "5.0\n",
      "4.9\n",
      "6.0\n",
      "7.0\n",
      "8.0\n",
      "9.0\n",
      "10\n",
      "banana\n",
      "None\n",
      "cherry\n",
      "No more items in the set\n"
     ]
    }
   ],
   "source": [
    "# control flow else in for loop\n",
    "S = {\"apple\", \"banana\", \"cherry\", 4.9, 5.0, 6.0, \n",
    "     7.0, 8.0, 9.0, 10, True, False, None}\n",
    "for x in S:\n",
    "    print(x)\n",
    "else:\n",
    "    print(\"No more items in the set\")"
   ]
  }
 ],
 "metadata": {
  "kernelspec": {
   "display_name": "Python 3",
   "language": "python",
   "name": "python3"
  },
  "language_info": {
   "codemirror_mode": {
    "name": "ipython",
    "version": 3
   },
   "file_extension": ".py",
   "mimetype": "text/x-python",
   "name": "python",
   "nbconvert_exporter": "python",
   "pygments_lexer": "ipython3",
   "version": "3.10.18"
  }
 },
 "nbformat": 4,
 "nbformat_minor": 5
}
